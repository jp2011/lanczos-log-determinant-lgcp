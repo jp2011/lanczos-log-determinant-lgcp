{
 "cells": [
  {
   "cell_type": "code",
   "execution_count": 1,
   "metadata": {},
   "outputs": [],
   "source": [
    "import numpy as np\n",
    "\n",
    "from sklearn.gaussian_process.kernels import Matern\n",
    "from abc import ABC, abstractmethod\n",
    "import gpytorch\n",
    "import torch\n",
    "\n",
    "from gpytorch.lazy import KroneckerProductLazyVariable, MatmulLazyVariable\n",
    "from gpytorch.lazy import NonLazyVariable\n",
    "from gpytorch.lazy import LazyVariable\n",
    "from gpytorch.lazy import DiagLazyVariable\n"
   ]
  },
  {
   "cell_type": "code",
   "execution_count": 2,
   "metadata": {},
   "outputs": [],
   "source": [
    "class SpatialGrid(ABC):\n",
    "    \n",
    "    def __init__(self, coord_x, coord_y, step):\n",
    "        \"\"\"\n",
    "        :param coord_x: numpy array of unique coordinates in dimension 1\n",
    "        :param coord_y: numpy array of unique coordinates in dimension 2\n",
    "        :param step:    distance between two neighbouring points along a single dimension\n",
    "        \"\"\"\n",
    "        self.coord_x = coord_x\n",
    "        self.coord_y = coord_y\n",
    "\n",
    "        self.dimX = coord_x.shape[0]\n",
    "        self.dimY = coord_y.shape[0]\n",
    "\n",
    "        self.step = step\n",
    "\n",
    "    @abstractmethod\n",
    "    def get_cov_matrix(self, theta, kroneckerised=False, **kwargs):\n",
    "        pass\n",
    "\n",
    "class SpatialGridMatern(SpatialGrid):\n",
    "\n",
    "    def __init__(self, coord_x, coord_y, step):\n",
    "        super(SpatialGridMatern, self).__init__(coord_x, coord_y, step)\n",
    "\n",
    "    def get_cov_matrix(self, theta, kroneckerised=False, **kwargs):\n",
    "        \"\"\"\n",
    "        Compute the covariance matrix using the locations of the observations. The locations are observed in 2-D here.\n",
    "        :param lengthscaleX: lengtscale of the Matern covariance function in the 'longitude' direction\n",
    "        :param lengthscaleY: lengtscale of the Matern covariance function in the 'latitude' direction\n",
    "        :param kroneckerised: a boolean flag indicating whether to return a list of covariance matrices for each\n",
    "                              dimension separately, or take the kronecker product of them.\n",
    "        :param smoothness: Smmothness parameter used for both latitude and longitude covariance functions.\n",
    "        :return: If kroeckerised is False return the list of covariance matrices (one for each direction). Otherwise\n",
    "                 take the kronecker product of the matrices (in the order of 'longitude, latitude, temporal'.\n",
    "        \"\"\"\n",
    "\n",
    "        variance = theta[0]\n",
    "        lengthscaleX = theta[1]\n",
    "        lengthscaleY = theta[2]\n",
    "        smoothness = kwargs['smoothness'] if 'smoothness' in kwargs else 2.5\n",
    "\n",
    "        k1 = Matern(length_scale=lengthscaleX, nu=smoothness)\n",
    "        k2 = Matern(length_scale=lengthscaleY, nu=smoothness)\n",
    "\n",
    "        x_coordinates = np.reshape(self.coord_x, (self.dimX, 1))\n",
    "        y_coordinates = np.reshape(self.coord_y, (self.dimY, 1))\n",
    "\n",
    "        # we need to split the signal variance into two parts\n",
    "        K1 = np.sqrt(variance) * k1(x_coordinates)\n",
    "        K2 = np.sqrt(variance) * k2(y_coordinates)\n",
    "        return np.kron(K1, K2) if kroneckerised else [K1, K2]\n"
   ]
  },
  {
   "cell_type": "code",
   "execution_count": 3,
   "metadata": {},
   "outputs": [],
   "source": [
    "def compute_log_det(np_Ks, np_W):\n",
    "    \"\"\"\n",
    "    Compute logDet(I + sqrt(W) * K * sqrt(W))\n",
    "    :param np_Ks: list of 2-D numpy arrays\n",
    "    :param np_W: a diagonal of a matrix passed as a 1-D array\n",
    "    :return: logDet(I + sqrt(W) * K * sqrt(W))\n",
    "    \"\"\"\n",
    "\n",
    "    with gpytorch.settings.max_cg_iterations(200), gpytorch.settings.max_lanczos_quadrature_iterations(\n",
    "            180), gpytorch.settings.num_trace_samples(180):\n",
    "        Ks = [NonLazyVariable(torch.from_numpy(Ki)) for Ki in np_Ks]\n",
    "\n",
    "        K = KroneckerProductLazyVariable(*Ks)\n",
    "        sqrtW = DiagLazyVariable(torch.from_numpy(np.sqrt(np_W)))\n",
    "\n",
    "        return LgcpLogDetVar(K, sqrtW).log_det().item()\n",
    "\n",
    "\n",
    "class LgcpLogDetVar(LazyVariable):\n",
    "    def __init__(self, K, sqrtW):\n",
    "        super(LgcpLogDetVar, self).__init__(K, sqrtW)\n",
    "        self.K = K\n",
    "        self.sqrtW = sqrtW\n",
    "\n",
    "    def _size(self):\n",
    "        return self.K.size()\n",
    "\n",
    "    def _matmul(self, rhs):\n",
    "        \"\"\"\n",
    "        Returns: (I + sqrt(W) * K * sqrt(W)) * rhs\n",
    "        \"\"\"\n",
    "        # compute sqrtW * rhs (element-wise multiplication of W and rhs)\n",
    "        temp = self.sqrtW._matmul(rhs)\n",
    "\n",
    "        # kronecker-style multiplication of the step above and K, i.e. (K * sqrtW * rhs)\n",
    "        temp2 = self.K._matmul(temp)\n",
    "        \n",
    "        # (sqrtW * K sqrtW * rhs)\n",
    "        temp3 = self.sqrtW._matmul(temp2)\n",
    "\n",
    "        # rhs + (sqrtW * K sqrtW * rhs)\n",
    "        return rhs + temp3\n"
   ]
  },
  {
   "cell_type": "code",
   "execution_count": 4,
   "metadata": {},
   "outputs": [],
   "source": [
    "def compute_log_det2(np_Ks, np_W):\n",
    "    with gpytorch.settings.max_cg_iterations(200), gpytorch.settings.max_lanczos_quadrature_iterations(\n",
    "            180), gpytorch.settings.num_trace_samples(180):\n",
    "        Ks = [NonLazyVariable(torch.from_numpy(Ki)) for Ki in np_Ks]\n",
    "        \n",
    "        K = KroneckerProductLazyVariable(*Ks)\n",
    "        sqrtW = DiagLazyVariable(torch.from_numpy(np.sqrt(np_W)))\n",
    "        \n",
    "        temp1 = MatmulLazyVariable(sqrtW, MatmulLazyVariable(K, sqrtW)).add_diag(torch.Tensor([1]).double())\n",
    "        return temp1.log_det().item()"
   ]
  },
  {
   "cell_type": "code",
   "execution_count": 5,
   "metadata": {},
   "outputs": [],
   "source": [
    "M = 20\n",
    "N = 20\n",
    "\n",
    "x_coordinates = np.linspace(1, M, M)\n",
    "y_coordinates = np.linspace(1, N, N)\n",
    "\n",
    "sigma_sq = 4\n",
    "lengthscale = 1.2\n",
    "\n",
    "# Make a grid\n",
    "grid = SpatialGridMatern(x_coordinates, y_coordinates, 1)\n",
    "\n",
    "# Generate a list of covariance matrices (one per dimension) with specified parameters\n",
    "Ks = grid.get_cov_matrix((sigma_sq, lengthscale, lengthscale))\n",
    "\n",
    "# Randomly generate W -> roughly corresponds to our real use case\n",
    "W = np.exp(np.random.normal(0, 4, M*N))\n",
    "\n",
    "W_sqrt = np.sqrt(W)\n",
    "\n",
    "# exact_2_sign, exact_2_value = np.linalg.slogdet(np.identity(M*N) + np.dot(np.diagflat(W_sqrt), np.dot(np.kron(Ks[0], Ks[1]), np.diagflat(W_sqrt))))\n",
    "\n",
    "# matrix = np.identity(M*N) + np.dot(np.diagflat(W_sqrt), np.dot(np.kron(Ks[0], Ks[1]), np.diagflat(W_sqrt)))\n",
    "# print(\"Is symmetric: {}\".format(np.allclose(matrix, matrix.T)))\n",
    "\n",
    "\n",
    "# exact_sign, exact_value = np.linalg.slogdet(np.identity(M*N) + np.dot(np.kron(Ks[0], Ks[1]), np.diagflat(W)))\n",
    "\n",
    "# print(\"Lanczos: {}\".format(compute_log_det(Ks, W)))\n",
    "# print(\"Exact: {}\".format(exact_sign * exact_value))\n",
    "# print(\"Exact other: {}\".format(exact_2_sign * exact_2_value))\n"
   ]
  },
  {
   "cell_type": "code",
   "execution_count": 6,
   "metadata": {},
   "outputs": [],
   "source": [
    "from time import process_time as timer"
   ]
  },
  {
   "cell_type": "code",
   "execution_count": 10,
   "metadata": {},
   "outputs": [
    {
     "name": "stdout",
     "output_type": "stream",
     "text": [
      "4.292205000000003\n"
     ]
    }
   ],
   "source": [
    "t_start = timer()\n",
    "custom_method_result = compute_log_det(Ks, W)\n",
    "t_end = timer()\n",
    "print(t_end - t_start)"
   ]
  },
  {
   "cell_type": "code",
   "execution_count": 11,
   "metadata": {},
   "outputs": [
    {
     "name": "stdout",
     "output_type": "stream",
     "text": [
      "23.037360000000007\n"
     ]
    }
   ],
   "source": [
    "t_start2 = timer()\n",
    "default_method_result = compute_log_det2(Ks, W)\n",
    "t_end2 = timer()\n",
    "print(t_end2 - t_start2)"
   ]
  },
  {
   "cell_type": "code",
   "execution_count": 12,
   "metadata": {},
   "outputs": [
    {
     "name": "stdout",
     "output_type": "stream",
     "text": [
      "791.8336858465867\n",
      "800.5521823259061\n"
     ]
    }
   ],
   "source": [
    "print(custom_method_result)\n",
    "print(default_method_result)"
   ]
  },
  {
   "cell_type": "code",
   "execution_count": null,
   "metadata": {},
   "outputs": [],
   "source": []
  }
 ],
 "metadata": {
  "kernelspec": {
   "display_name": "Python [conda env:london-crime-conda-env]",
   "language": "python",
   "name": "conda-env-london-crime-conda-env-py"
  },
  "language_info": {
   "codemirror_mode": {
    "name": "ipython",
    "version": 3
   },
   "file_extension": ".py",
   "mimetype": "text/x-python",
   "name": "python",
   "nbconvert_exporter": "python",
   "pygments_lexer": "ipython3",
   "version": "3.6.5"
  },
  "varInspector": {
   "cols": {
    "lenName": 16,
    "lenType": 16,
    "lenVar": 40
   },
   "kernels_config": {
    "python": {
     "delete_cmd_postfix": "",
     "delete_cmd_prefix": "del ",
     "library": "var_list.py",
     "varRefreshCmd": "print(var_dic_list())"
    },
    "r": {
     "delete_cmd_postfix": ") ",
     "delete_cmd_prefix": "rm(",
     "library": "var_list.r",
     "varRefreshCmd": "cat(var_dic_list()) "
    }
   },
   "types_to_exclude": [
    "module",
    "function",
    "builtin_function_or_method",
    "instance",
    "_Feature"
   ],
   "window_display": false
  }
 },
 "nbformat": 4,
 "nbformat_minor": 2
}
